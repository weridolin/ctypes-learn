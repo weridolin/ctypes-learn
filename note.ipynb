{
 "cells": [
  {
   "cell_type": "code",
   "execution_count": 0,
   "metadata": {
    "collapsed": true
   },
   "outputs": [],
   "source": []
  },
  {
   "cell_type": "markdown",
   "source": [
    "# 导出外部动态链接库\n",
    "- cdll\n",
    "- windll:(windows)\n",
    "- oledll:(windows)\n",
    "\n",
    "- linux 下必须使用 包含 文件扩展名的文件名来导入共享库。因此不能简单使用对象属性的方式来导入库、\n"
   ],
   "metadata": {
    "collapsed": false,
    "pycharm": {
     "name": "#%% md\n"
    }
   }
  },
  {
   "cell_type": "code",
   "execution_count": 1,
   "outputs": [
    {
     "name": "stdout",
     "output_type": "stream",
     "text": [
      "<WinDLL 'kernel32', handle 77700000 at 0x32abf70>\n",
      "<WinDLL 'user32', handle 76200000 at 0x5872eb0>\n"
     ]
    }
   ],
   "source": [
    "# win\n",
    "from ctypes import *\n",
    "print(windll.kernel32)\n",
    "print(windll.user32)\n",
    "\n",
    "\n",
    "# linux\n",
    "# cdll.LoadLibrary(\"libc.so.6\")\n",
    "# libc = CDLL(\"libc.so.6\")\n",
    "# print(libc)"
   ],
   "metadata": {
    "collapsed": false,
    "pycharm": {
     "name": "#%%\n"
    }
   }
  },
  {
   "cell_type": "markdown",
   "source": [
    "# 操作动态库\n",
    "\n",
    "## xxxA和xxxW的区别：\n",
    "Win32系统的动态库，比如 kernel32 和 user32，\n",
    "通常会同时导出同一个函数的 ANSI 版本和 UNICODE 版本。UNICODE\n",
    " 版本通常会在名字最后以 W 结尾，而 ANSI 版本的则以 A 结尾"
   ],
   "metadata": {
    "collapsed": false
   }
  },
  {
   "cell_type": "code",
   "execution_count": 2,
   "outputs": [
    {
     "name": "stdout",
     "output_type": "stream",
     "text": [
      "<_FuncPtr object at 0x05883288>\n"
     ]
    },
    {
     "ename": "AttributeError",
     "evalue": "function 'myfunction' not found",
     "output_type": "error",
     "traceback": [
      "\u001B[1;31m---------------------------------------------------------------------------\u001B[0m",
      "\u001B[1;31mAttributeError\u001B[0m                            Traceback (most recent call last)",
      "\u001B[1;32m<ipython-input-2-51ab2aba02df>\u001B[0m in \u001B[0;36m<module>\u001B[1;34m\u001B[0m\n\u001B[0;32m      9\u001B[0m \u001B[1;33m\u001B[0m\u001B[0m\n\u001B[0;32m     10\u001B[0m \u001B[1;31m## error\u001B[0m\u001B[1;33m\u001B[0m\u001B[1;33m\u001B[0m\u001B[1;33m\u001B[0m\u001B[0m\n\u001B[1;32m---> 11\u001B[1;33m \u001B[0mprint\u001B[0m\u001B[1;33m(\u001B[0m\u001B[0mwindll\u001B[0m\u001B[1;33m.\u001B[0m\u001B[0mkernel32\u001B[0m\u001B[1;33m.\u001B[0m\u001B[0mmyfunction\u001B[0m\u001B[1;33m)\u001B[0m\u001B[1;33m\u001B[0m\u001B[1;33m\u001B[0m\u001B[0m\n\u001B[0m\u001B[0;32m     12\u001B[0m \u001B[1;33m\u001B[0m\u001B[0m\n",
      "\u001B[1;32mL:\\PYTHON3.732\\lib\\ctypes\\__init__.py\u001B[0m in \u001B[0;36m__getattr__\u001B[1;34m(self, name)\u001B[0m\n\u001B[0;32m    375\u001B[0m         \u001B[1;32mif\u001B[0m \u001B[0mname\u001B[0m\u001B[1;33m.\u001B[0m\u001B[0mstartswith\u001B[0m\u001B[1;33m(\u001B[0m\u001B[1;34m'__'\u001B[0m\u001B[1;33m)\u001B[0m \u001B[1;32mand\u001B[0m \u001B[0mname\u001B[0m\u001B[1;33m.\u001B[0m\u001B[0mendswith\u001B[0m\u001B[1;33m(\u001B[0m\u001B[1;34m'__'\u001B[0m\u001B[1;33m)\u001B[0m\u001B[1;33m:\u001B[0m\u001B[1;33m\u001B[0m\u001B[1;33m\u001B[0m\u001B[0m\n\u001B[0;32m    376\u001B[0m             \u001B[1;32mraise\u001B[0m \u001B[0mAttributeError\u001B[0m\u001B[1;33m(\u001B[0m\u001B[0mname\u001B[0m\u001B[1;33m)\u001B[0m\u001B[1;33m\u001B[0m\u001B[1;33m\u001B[0m\u001B[0m\n\u001B[1;32m--> 377\u001B[1;33m         \u001B[0mfunc\u001B[0m \u001B[1;33m=\u001B[0m \u001B[0mself\u001B[0m\u001B[1;33m.\u001B[0m\u001B[0m__getitem__\u001B[0m\u001B[1;33m(\u001B[0m\u001B[0mname\u001B[0m\u001B[1;33m)\u001B[0m\u001B[1;33m\u001B[0m\u001B[1;33m\u001B[0m\u001B[0m\n\u001B[0m\u001B[0;32m    378\u001B[0m         \u001B[0msetattr\u001B[0m\u001B[1;33m(\u001B[0m\u001B[0mself\u001B[0m\u001B[1;33m,\u001B[0m \u001B[0mname\u001B[0m\u001B[1;33m,\u001B[0m \u001B[0mfunc\u001B[0m\u001B[1;33m)\u001B[0m\u001B[1;33m\u001B[0m\u001B[1;33m\u001B[0m\u001B[0m\n\u001B[0;32m    379\u001B[0m         \u001B[1;32mreturn\u001B[0m \u001B[0mfunc\u001B[0m\u001B[1;33m\u001B[0m\u001B[1;33m\u001B[0m\u001B[0m\n",
      "\u001B[1;32mL:\\PYTHON3.732\\lib\\ctypes\\__init__.py\u001B[0m in \u001B[0;36m__getitem__\u001B[1;34m(self, name_or_ordinal)\u001B[0m\n\u001B[0;32m    380\u001B[0m \u001B[1;33m\u001B[0m\u001B[0m\n\u001B[0;32m    381\u001B[0m     \u001B[1;32mdef\u001B[0m \u001B[0m__getitem__\u001B[0m\u001B[1;33m(\u001B[0m\u001B[0mself\u001B[0m\u001B[1;33m,\u001B[0m \u001B[0mname_or_ordinal\u001B[0m\u001B[1;33m)\u001B[0m\u001B[1;33m:\u001B[0m\u001B[1;33m\u001B[0m\u001B[1;33m\u001B[0m\u001B[0m\n\u001B[1;32m--> 382\u001B[1;33m         \u001B[0mfunc\u001B[0m \u001B[1;33m=\u001B[0m \u001B[0mself\u001B[0m\u001B[1;33m.\u001B[0m\u001B[0m_FuncPtr\u001B[0m\u001B[1;33m(\u001B[0m\u001B[1;33m(\u001B[0m\u001B[0mname_or_ordinal\u001B[0m\u001B[1;33m,\u001B[0m \u001B[0mself\u001B[0m\u001B[1;33m)\u001B[0m\u001B[1;33m)\u001B[0m\u001B[1;33m\u001B[0m\u001B[1;33m\u001B[0m\u001B[0m\n\u001B[0m\u001B[0;32m    383\u001B[0m         \u001B[1;32mif\u001B[0m \u001B[1;32mnot\u001B[0m \u001B[0misinstance\u001B[0m\u001B[1;33m(\u001B[0m\u001B[0mname_or_ordinal\u001B[0m\u001B[1;33m,\u001B[0m \u001B[0mint\u001B[0m\u001B[1;33m)\u001B[0m\u001B[1;33m:\u001B[0m\u001B[1;33m\u001B[0m\u001B[1;33m\u001B[0m\u001B[0m\n\u001B[0;32m    384\u001B[0m             \u001B[0mfunc\u001B[0m\u001B[1;33m.\u001B[0m\u001B[0m__name__\u001B[0m \u001B[1;33m=\u001B[0m \u001B[0mname_or_ordinal\u001B[0m\u001B[1;33m\u001B[0m\u001B[1;33m\u001B[0m\u001B[0m\n",
      "\u001B[1;31mAttributeError\u001B[0m: function 'myfunction' not found"
     ]
    }
   ],
   "source": [
    "print(windll.kernel32.GetModuleHandleA)\n",
    "\n",
    "\n",
    "# dlls的导出的函数名不符合 Python 的标识符规范，比如 \"??2@YAPAXI@Z\"。->getattr() 方法来获得该函数。\n",
    "getattr(cdll.msvcrt, \"??2@YAPAXI@Z\")\n",
    "\n",
    "# 有些dll没有函数名，可通过索引\n",
    "cdll.kernel32[1]\n",
    "\n",
    "## error\n",
    "print(windll.kernel32.myfunction)"
   ],
   "metadata": {
    "collapsed": false,
    "pycharm": {
     "name": "#%%\n"
    }
   }
  },
  {
   "cell_type": "markdown",
   "source": [
    "# 数据类型\n",
    "-   None，整型，字节对象和（UNICODE）字符串是仅有的可以直接作为函数参数使用的四种Python本地数据类型。\n",
    "    None` 作为C的空指针 (NULL)，字节和字符串类型作为一个指向其保存数据的内存块指针 （char * 或 wchar_t *)。\n",
    "    Python 的整型则作为平台默认的C的 int 类型，他们的数值被截断以适应C类型的整型长度。\n",
    "\n",
    "类型[链接](\"https://docs.python.org/zh-cn/3.7/library/ctypes.html#ctypes.c_char\")"
   ],
   "metadata": {
    "collapsed": false
   }
  },
  {
   "cell_type": "code",
   "source": [
    "i=c_int(10)\n",
    "print(i)\n",
    "print(i.value)\n",
    "\n"
   ],
   "metadata": {
    "collapsed": false,
    "pycharm": {
     "name": "#%%\n"
    }
   },
   "execution_count": 4,
   "outputs": [
    {
     "name": "stdout",
     "output_type": "stream",
     "text": [
      "c_long(10)\n",
      "10\n"
     ]
    }
   ]
  },
  {
   "cell_type": "markdown",
   "source": [
    "- 给指针类型的对象 c_char_p, c_wchar_p 和 c_void_p 等赋值时，\n",
    "将改变它们所指向的内存地址，而不是它们所指向的内存区域的内容\n"
   ],
   "metadata": {
    "collapsed": false
   }
  },
  {
   "cell_type": "code",
   "execution_count": 5,
   "outputs": [
    {
     "name": "stdout",
     "output_type": "stream",
     "text": [
      "c_wchar_p(119181184)\n",
      "hello werido\n",
      "c_wchar_p(107525424)\n"
     ]
    }
   ],
   "source": [
    "s=\"hello werido\"\n",
    "c_point=c_wchar_p(s)\n",
    "print(c_point) # 指向地址\n",
    "print(c_point.value) # 地址的值\n",
    "c_point.value=\"hello liu\" # 这里是指向了一个新地址，内容为 \"hello liu\"\n",
    "print(c_point) # 地址已经改变\n",
    "\n"
   ],
   "metadata": {
    "collapsed": false,
    "pycharm": {
     "name": "#%%\n"
    }
   }
  },
  {
   "cell_type": "markdown",
   "source": [
    "#### create_string_buffer()\n",
    "- 可以直接改变内存块的值\n",
    "- 内存块内容可以通过 raw 属性存取，希望将它作为NUL结束的字符串，请使用 value 属性"
   ],
   "metadata": {
    "collapsed": false
   }
  },
  {
   "cell_type": "code",
   "execution_count": 7,
   "outputs": [
    {
     "name": "stdout",
     "output_type": "stream",
     "text": [
      "3 b'\\x00\\x00\\x00'\n",
      "13 b'hello werido\\x00'\n",
      "13 b'hello liu\\x00do\\x00'\n"
     ]
    }
   ],
   "source": [
    "from ctypes import create_string_buffer\n",
    "p = create_string_buffer(3)\n",
    "print(sizeof(p),repr(p.raw))\n",
    "\n",
    "p = create_string_buffer(b\"hello werido\")\n",
    "print(sizeof(p),repr(p.raw))\n",
    "\n",
    "# 改变p的内存块的值\n",
    "p.value=b\"hello liu\"\n",
    "print(sizeof(p),repr(p.raw)) # 地址值其实没有改变，值改变了\n",
    "\n"
   ],
   "metadata": {
    "collapsed": false,
    "pycharm": {
     "name": "#%%\n"
    }
   }
  }
 ],
 "metadata": {
  "kernelspec": {
   "display_name": "Python 3",
   "language": "python",
   "name": "python3"
  },
  "language_info": {
   "codemirror_mode": {
    "name": "ipython",
    "version": 2
   },
   "file_extension": ".py",
   "mimetype": "text/x-python",
   "name": "python",
   "nbconvert_exporter": "python",
   "pygments_lexer": "ipython2",
   "version": "2.7.6"
  }
 },
 "nbformat": 4,
 "nbformat_minor": 0
}