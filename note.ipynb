{
 "cells": [
  {
   "cell_type": "code",
   "execution_count": 2,
   "metadata": {
    "collapsed": true
   },
   "outputs": [],
   "source": []
  },
  {
   "cell_type": "markdown",
   "source": [
    "# 导出外部动态链接库\n",
    "- cdll\n",
    "- windll:(windows)\n",
    "- oledll:(windows)\n",
    "\n",
    "- linux 下必须使用 包含 文件扩展名的文件名来导入共享库。因此不能简单使用对象属性的方式来导入库、\n"
   ],
   "metadata": {
    "collapsed": false,
    "pycharm": {
     "name": "#%% md\n"
    }
   }
  },
  {
   "cell_type": "code",
   "execution_count": 3,
   "outputs": [
    {
     "name": "stdout",
     "output_type": "stream",
     "text": [
      "<WinDLL 'kernel32', handle 75330000 at 0x2fabfd0>\n",
      "<WinDLL 'user32', handle 769b0000 at 0x2f87eb0>\n"
     ]
    }
   ],
   "source": [
    "# win\n",
    "from ctypes import *\n",
    "print(windll.kernel32)\n",
    "print(windll.user32)\n",
    "\n",
    "\n",
    "# linux\n",
    "# cdll.LoadLibrary(\"libc.so.6\")\n",
    "# libc = CDLL(\"libc.so.6\")\n",
    "# print(libc)"
   ],
   "metadata": {
    "collapsed": false,
    "pycharm": {
     "name": "#%%\n"
    }
   }
  },
  {
   "cell_type": "markdown",
   "source": [
    "# 操作动态库\n",
    "\n",
    "## xxxA和xxxW的区别：\n",
    "Win32系统的动态库，比如 kernel32 和 user32，\n",
    "通常会同时导出同一个函数的 ANSI 版本和 UNICODE 版本。UNICODE\n",
    " 版本通常会在名字最后以 W 结尾，而 ANSI 版本的则以 A 结尾"
   ],
   "metadata": {
    "collapsed": false
   }
  },
  {
   "cell_type": "code",
   "execution_count": 4,
   "outputs": [
    {
     "name": "stdout",
     "output_type": "stream",
     "text": [
      "<_FuncPtr object at 0x05583120>\n"
     ]
    },
    {
     "ename": "AttributeError",
     "evalue": "function 'myfunction' not found",
     "output_type": "error",
     "traceback": [
      "\u001B[1;31m---------------------------------------------------------------------------\u001B[0m",
      "\u001B[1;31mAttributeError\u001B[0m                            Traceback (most recent call last)",
      "\u001B[1;32m<ipython-input-4-51ab2aba02df>\u001B[0m in \u001B[0;36m<module>\u001B[1;34m\u001B[0m\n\u001B[0;32m      9\u001B[0m \u001B[1;33m\u001B[0m\u001B[0m\n\u001B[0;32m     10\u001B[0m \u001B[1;31m## error\u001B[0m\u001B[1;33m\u001B[0m\u001B[1;33m\u001B[0m\u001B[1;33m\u001B[0m\u001B[0m\n\u001B[1;32m---> 11\u001B[1;33m \u001B[0mprint\u001B[0m\u001B[1;33m(\u001B[0m\u001B[0mwindll\u001B[0m\u001B[1;33m.\u001B[0m\u001B[0mkernel32\u001B[0m\u001B[1;33m.\u001B[0m\u001B[0mmyfunction\u001B[0m\u001B[1;33m)\u001B[0m\u001B[1;33m\u001B[0m\u001B[1;33m\u001B[0m\u001B[0m\n\u001B[0m\u001B[0;32m     12\u001B[0m \u001B[1;33m\u001B[0m\u001B[0m\n",
      "\u001B[1;32mL:\\PYTHON3.732\\lib\\ctypes\\__init__.py\u001B[0m in \u001B[0;36m__getattr__\u001B[1;34m(self, name)\u001B[0m\n\u001B[0;32m    375\u001B[0m         \u001B[1;32mif\u001B[0m \u001B[0mname\u001B[0m\u001B[1;33m.\u001B[0m\u001B[0mstartswith\u001B[0m\u001B[1;33m(\u001B[0m\u001B[1;34m'__'\u001B[0m\u001B[1;33m)\u001B[0m \u001B[1;32mand\u001B[0m \u001B[0mname\u001B[0m\u001B[1;33m.\u001B[0m\u001B[0mendswith\u001B[0m\u001B[1;33m(\u001B[0m\u001B[1;34m'__'\u001B[0m\u001B[1;33m)\u001B[0m\u001B[1;33m:\u001B[0m\u001B[1;33m\u001B[0m\u001B[1;33m\u001B[0m\u001B[0m\n\u001B[0;32m    376\u001B[0m             \u001B[1;32mraise\u001B[0m \u001B[0mAttributeError\u001B[0m\u001B[1;33m(\u001B[0m\u001B[0mname\u001B[0m\u001B[1;33m)\u001B[0m\u001B[1;33m\u001B[0m\u001B[1;33m\u001B[0m\u001B[0m\n\u001B[1;32m--> 377\u001B[1;33m         \u001B[0mfunc\u001B[0m \u001B[1;33m=\u001B[0m \u001B[0mself\u001B[0m\u001B[1;33m.\u001B[0m\u001B[0m__getitem__\u001B[0m\u001B[1;33m(\u001B[0m\u001B[0mname\u001B[0m\u001B[1;33m)\u001B[0m\u001B[1;33m\u001B[0m\u001B[1;33m\u001B[0m\u001B[0m\n\u001B[0m\u001B[0;32m    378\u001B[0m         \u001B[0msetattr\u001B[0m\u001B[1;33m(\u001B[0m\u001B[0mself\u001B[0m\u001B[1;33m,\u001B[0m \u001B[0mname\u001B[0m\u001B[1;33m,\u001B[0m \u001B[0mfunc\u001B[0m\u001B[1;33m)\u001B[0m\u001B[1;33m\u001B[0m\u001B[1;33m\u001B[0m\u001B[0m\n\u001B[0;32m    379\u001B[0m         \u001B[1;32mreturn\u001B[0m \u001B[0mfunc\u001B[0m\u001B[1;33m\u001B[0m\u001B[1;33m\u001B[0m\u001B[0m\n",
      "\u001B[1;32mL:\\PYTHON3.732\\lib\\ctypes\\__init__.py\u001B[0m in \u001B[0;36m__getitem__\u001B[1;34m(self, name_or_ordinal)\u001B[0m\n\u001B[0;32m    380\u001B[0m \u001B[1;33m\u001B[0m\u001B[0m\n\u001B[0;32m    381\u001B[0m     \u001B[1;32mdef\u001B[0m \u001B[0m__getitem__\u001B[0m\u001B[1;33m(\u001B[0m\u001B[0mself\u001B[0m\u001B[1;33m,\u001B[0m \u001B[0mname_or_ordinal\u001B[0m\u001B[1;33m)\u001B[0m\u001B[1;33m:\u001B[0m\u001B[1;33m\u001B[0m\u001B[1;33m\u001B[0m\u001B[0m\n\u001B[1;32m--> 382\u001B[1;33m         \u001B[0mfunc\u001B[0m \u001B[1;33m=\u001B[0m \u001B[0mself\u001B[0m\u001B[1;33m.\u001B[0m\u001B[0m_FuncPtr\u001B[0m\u001B[1;33m(\u001B[0m\u001B[1;33m(\u001B[0m\u001B[0mname_or_ordinal\u001B[0m\u001B[1;33m,\u001B[0m \u001B[0mself\u001B[0m\u001B[1;33m)\u001B[0m\u001B[1;33m)\u001B[0m\u001B[1;33m\u001B[0m\u001B[1;33m\u001B[0m\u001B[0m\n\u001B[0m\u001B[0;32m    383\u001B[0m         \u001B[1;32mif\u001B[0m \u001B[1;32mnot\u001B[0m \u001B[0misinstance\u001B[0m\u001B[1;33m(\u001B[0m\u001B[0mname_or_ordinal\u001B[0m\u001B[1;33m,\u001B[0m \u001B[0mint\u001B[0m\u001B[1;33m)\u001B[0m\u001B[1;33m:\u001B[0m\u001B[1;33m\u001B[0m\u001B[1;33m\u001B[0m\u001B[0m\n\u001B[0;32m    384\u001B[0m             \u001B[0mfunc\u001B[0m\u001B[1;33m.\u001B[0m\u001B[0m__name__\u001B[0m \u001B[1;33m=\u001B[0m \u001B[0mname_or_ordinal\u001B[0m\u001B[1;33m\u001B[0m\u001B[1;33m\u001B[0m\u001B[0m\n",
      "\u001B[1;31mAttributeError\u001B[0m: function 'myfunction' not found"
     ]
    }
   ],
   "source": [
    "print(windll.kernel32.GetModuleHandleA)\n",
    "\n",
    "\n",
    "# dlls的导出的函数名不符合 Python 的标识符规范，比如 \"??2@YAPAXI@Z\"。->getattr() 方法来获得该函数。\n",
    "getattr(cdll.msvcrt, \"??2@YAPAXI@Z\")\n",
    "\n",
    "# 有些dll没有函数名，可通过索引\n",
    "cdll.kernel32[1]\n",
    "\n",
    "## error\n",
    "print(windll.kernel32.myfunction)"
   ],
   "metadata": {
    "collapsed": false,
    "pycharm": {
     "name": "#%%\n"
    }
   }
  },
  {
   "cell_type": "markdown",
   "source": [
    "# 数据类型\n",
    "-   None，整型，字节对象和（UNICODE）字符串是仅有的可以直接作为函数参数使用的四种Python本地数据类型。\n",
    "    None` 作为C的空指针 (NULL)，字节和字符串类型作为一个指向其保存数据的内存块指针 （char * 或 wchar_t *)。\n",
    "    Python 的整型则作为平台默认的C的 int 类型，他们的数值被截断以适应C类型的整型长度。\n",
    "\n",
    "类型[链接](\"https://docs.python.org/zh-cn/3.7/library/ctypes.html#ctypes.c_char\")"
   ],
   "metadata": {
    "collapsed": false
   }
  },
  {
   "cell_type": "code",
   "source": [
    "i=c_int(10)\n",
    "print(i)\n",
    "print(i.value)\n",
    "\n"
   ],
   "metadata": {
    "collapsed": false,
    "pycharm": {
     "name": "#%%\n"
    }
   },
   "execution_count": null,
   "outputs": []
  },
  {
   "cell_type": "markdown",
   "source": [
    "- 给指针类型的对象 c_char_p, c_wchar_p 和 c_void_p 等赋值时，\n",
    "将改变它们所指向的内存地址，而不是它们所指向的内存区域的内容\n"
   ],
   "metadata": {
    "collapsed": false
   }
  },
  {
   "cell_type": "code",
   "execution_count": null,
   "outputs": [],
   "source": [
    "s=\"hello werido\"\n",
    "c_point=c_wchar_p(s)\n",
    "print(c_point) # 指向地址\n",
    "print(c_point.value) # 地址的值\n",
    "c_point.value=\"hello liu\" # 这里是指向了一个新地址，内容为 \"hello liu\"\n",
    "print(c_point) # 地址已经改变\n",
    "\n"
   ],
   "metadata": {
    "collapsed": false,
    "pycharm": {
     "name": "#%%\n"
    }
   }
  },
  {
   "cell_type": "markdown",
   "source": [
    "#### create_string_buffer()\n",
    "- 可以直接改变内存块的值\n",
    "- 内存块内容可以通过 raw 属性存取，希望将它作为NUL结束的字符串，请使用 value 属性"
   ],
   "metadata": {
    "collapsed": false
   }
  },
  {
   "cell_type": "code",
   "execution_count": null,
   "outputs": [],
   "source": [
    "from ctypes import create_string_buffer\n",
    "p = create_string_buffer(3)\n",
    "print(sizeof(p),repr(p.raw))\n",
    "\n",
    "p = create_string_buffer(b\"hello werido\")\n",
    "print(sizeof(p),repr(p.raw))\n",
    "\n",
    "# 改变p的内存块的值\n",
    "p.value=b\"hello liu\"\n",
    "print(sizeof(p),repr(p.raw)) # 地址值其实没有改变，值改变了"
   ],
   "metadata": {
    "collapsed": false,
    "pycharm": {
     "name": "#%%\n"
    }
   }
  },
  {
   "cell_type": "markdown",
   "source": [
    "#### 调用函数\n",
    "- 打印：printf = libc.printf\n",
    "- 除了整数、字符串以及字节串之外，所有的 Python 类型都必须使用它们对应的 ctypes 类型包装，才能够被正确地转换为所需的C语言类型"
   ],
   "metadata": {
    "collapsed": false
   }
  },
  {
   "cell_type": "code",
   "execution_count": null,
   "outputs": [],
   "source": [
    "from ctypes import cdll\n",
    "libc = cdll.msvcrt   # 微软的标准C库，都是有这个为标准的\n",
    "printf =libc.printf\n",
    "printf(b\"Hello, %s\\n\", b\"World!\")\n",
    "printf(b\"An int %d, a double %f\\n\", 1234, c_double(3.14))"
   ],
   "metadata": {
    "collapsed": false,
    "pycharm": {
     "name": "#%%\n"
    }
   }
  },
  {
   "cell_type": "markdown",
   "source": [
    "#### 自定义数据类型\n",
    "- ctypes 会寻找 **_as_parameter_** 属性并使用它作为函数参数。当然，它必须是数字、字符串或者二进制字符串"
   ],
   "metadata": {
    "collapsed": false
   }
  },
  {
   "cell_type": "code",
   "source": [
    "class MyCtypes:\n",
    "    def __init__(self,value):\n",
    "        self._as_parameter_=value\n",
    "\n",
    "myctypes=MyCtypes(value=45)\n",
    "printf(b\"%d bottles of beer\\n\", myctypes)\n",
    "# 打印输出：\n",
    "#>>> 42 bottles of beer 打印1，这里在IDE里面不会显示\n",
    "#>>> 19                 打印2"
   ],
   "metadata": {
    "collapsed": false,
    "pycharm": {
     "name": "#%%\n"
    }
   },
   "execution_count": null,
   "outputs": []
  },
  {
   "cell_type": "markdown",
   "source": [
    "### 返回类型\n",
    "#### 默认情况下都会假定函数返回C int 类型。其他返回类型可以通过设置函数对象的 restype 属性来指定"
   ],
   "metadata": {
    "collapsed": false,
    "pycharm": {
     "name": "#%% md\n"
    }
   }
  },
  {
   "cell_type": "code",
   "execution_count": null,
   "outputs": [],
   "source": [
    "#strchr 函数，这个函数接收一个字符串指针以及一个字符作为参数 返回另一个字符串指针。\n",
    "strchr =libc.strchr\n",
    "strchr(b\"abcdef\", ord(\"d\"))\n",
    "\n",
    "strchr.restype = c_char_p\n",
    "# 自定义类型strchr返回一个c_char_p\n"
   ],
   "metadata": {
    "collapsed": false,
    "pycharm": {
     "name": "#%%\n"
    }
   }
  },
  {
   "cell_type": "markdown",
   "source": [
    "## 传递指针作为参数\n",
    "- byref()\n",
    "- pointer()"
   ],
   "metadata": {
    "collapsed": false,
    "pycharm": {
     "name": "#%% md\n"
    }
   }
  },
  {
   "cell_type": "code",
   "execution_count": null,
   "outputs": [],
   "source": [
    "i =c_int()\n",
    "f = c_float()\n",
    "s =create_string_buffer(b\"hello werido\")\n",
    "\n",
    "print(i.value,f.value,repr(s.value))\n",
    "\n",
    "# 往三个地址中写入新的值\n",
    "libc.sscanf(b\"1 3.14 Hellowerido\", b\"%d %f %s\",byref(i), byref(f), s)\n",
    "print(i.value, f.value, repr(s.value))\n",
    "\n",
    "\n",
    "######################## pointer ##############################\n",
    "i =c_int(42)\n",
    "pi =pointer(i)\n",
    "print(pi.contents)\n",
    " # contents 属性，它存储了指针指向的真实对象，如上面的 i 对象\n",
    "\n",
    "# 改变PI的指向\n",
    "b =c_int(99)\n",
    "pi.contents=b\n",
    "print(pi.contents)\n",
    "\n",
    "## 指针访问\n",
    "print(pi[0])\n",
    "print(pi.contents.value)"
   ],
   "metadata": {
    "collapsed": false,
    "pycharm": {
     "name": "#%%\n"
    }
   }
  },
  {
   "cell_type": "markdown",
   "source": [
    "#### 结构体和联合\n",
    "- 继承自 Structure or Union\n",
    "- 子类必须定义 **_fields_** 属性。 **_fields_** 是一个二元组列表，二元组中包含 field name 和 field type 。\n",
    "- type 字段必须是一个 ctypes 类型，比如 c_int，或者其他 ctypes 类型: 结构体、联合、数组、指针。"
   ],
   "metadata": {
    "collapsed": false
   }
  },
  {
   "cell_type": "code",
   "execution_count": 7,
   "outputs": [
    {
     "name": "stdout",
     "output_type": "stream",
     "text": [
      "10 20\n",
      "1 2\n",
      "0 0\n",
      "1 2\n",
      "3 4\n",
      "<Field type=c_long, ofs=0:0, bits=16>\n",
      "<Field type=c_long, ofs=0:16, bits=16>\n",
      "29127\n",
      "13198\n",
      "123\n",
      "456\n"
     ]
    }
   ],
   "source": [
    "from ctypes import *\n",
    "class PointStruct(Structure):\n",
    "    _fields_=[\n",
    "        (\"x\",c_int), # 结构体的类型必须为ctypes\n",
    "        (\"y\",c_int)\n",
    "    ]\n",
    "point= PointStruct(10,20)\n",
    "print(point.x, point.y)\n",
    "\n",
    "class Rect(Structure):\n",
    "    _fields_=[\n",
    "        (\"upperleft\",PointStruct),\n",
    "        (\"lowerright\",PointStruct)\n",
    "    ]\n",
    "point1=PointStruct(1,2)\n",
    "point2=PointStruct(3,4)\n",
    "rc =Rect(point1) # 只对upperleft初始化\n",
    "print(rc.upperleft.x, rc.upperleft.y)\n",
    "print(rc.lowerright.x, rc.lowerright.y)\n",
    "rc =Rect(point1,point2) #对upperleft lowerright 都初始化\n",
    "print(rc.upperleft.x, rc.upperleft.y)\n",
    "print(rc.lowerright.x, rc.lowerright.y)\n",
    "\n",
    "\n",
    "##################### 结构体指定字段的长度 #######################\n",
    "class Intwithlen(Structure):\n",
    "    _fields_=[\n",
    "        (\"int_16\",c_int,16),\n",
    "        (\"second_16\",c_int,16)\n",
    "    ]\n",
    "print(Intwithlen.int_16)\n",
    "print(Intwithlen.second_16)\n",
    "a = 11111111111111111111111111  # 溢出 16位长度为0到6553\n",
    "b = 22222222222  # 溢出   16位长度为0到6553\n",
    "c = 123\n",
    "d = 456\n",
    "INT = Intwithlen(a,b)\n",
    "INT2 = Intwithlen(c,d)\n",
    "print(INT.int_16)\n",
    "print(INT.second_16)\n",
    "print(INT2.int_16)\n",
    "print(INT2.second_16)"
   ],
   "metadata": {
    "collapsed": false,
    "pycharm": {
     "name": "#%%\n"
    }
   }
  },
  {
   "cell_type": "markdown",
   "source": [
    "#### 数组\n",
    "- 一个类型 * 一个正数: TenPointsArrayType = PointStruct *4"
   ],
   "metadata": {
    "collapsed": false,
    "pycharm": {
     "name": "#%% md\n"
    }
   }
  },
  {
   "cell_type": "code",
   "execution_count": 6,
   "outputs": [
    {
     "ename": "NameError",
     "evalue": "name 'PointStruct' is not defined",
     "output_type": "error",
     "traceback": [
      "\u001B[1;31m---------------------------------------------------------------------------\u001B[0m",
      "\u001B[1;31mNameError\u001B[0m                                 Traceback (most recent call last)",
      "\u001B[1;32m<ipython-input-6-047bbff843ef>\u001B[0m in \u001B[0;36m<module>\u001B[1;34m\u001B[0m\n\u001B[0;32m      2\u001B[0m     \u001B[0m_fields_\u001B[0m \u001B[1;33m=\u001B[0m \u001B[1;33m(\u001B[0m\u001B[1;34m\"x\"\u001B[0m\u001B[1;33m,\u001B[0m\u001B[0mc_int\u001B[0m\u001B[1;33m)\u001B[0m\u001B[1;33m,\u001B[0m\u001B[1;33m(\u001B[0m\u001B[1;34m\"y\"\u001B[0m\u001B[1;33m,\u001B[0m\u001B[0mc_int\u001B[0m\u001B[1;33m)\u001B[0m\u001B[1;33m\u001B[0m\u001B[1;33m\u001B[0m\u001B[0m\n\u001B[0;32m      3\u001B[0m \u001B[1;33m\u001B[0m\u001B[0m\n\u001B[1;32m----> 4\u001B[1;33m \u001B[1;32mclass\u001B[0m \u001B[0mMyStruct\u001B[0m\u001B[1;33m(\u001B[0m\u001B[0mStructure\u001B[0m\u001B[1;33m)\u001B[0m\u001B[1;33m:\u001B[0m\u001B[1;33m\u001B[0m\u001B[1;33m\u001B[0m\u001B[0m\n\u001B[0m\u001B[0;32m      5\u001B[0m     _fields_=[\n\u001B[0;32m      6\u001B[0m         \u001B[1;33m(\u001B[0m\u001B[1;34m\"a\"\u001B[0m\u001B[1;33m,\u001B[0m\u001B[0mc_int\u001B[0m\u001B[1;33m)\u001B[0m\u001B[1;33m,\u001B[0m\u001B[1;33m\u001B[0m\u001B[1;33m\u001B[0m\u001B[0m\n",
      "\u001B[1;32m<ipython-input-6-047bbff843ef>\u001B[0m in \u001B[0;36mMyStruct\u001B[1;34m()\u001B[0m\n\u001B[0;32m      6\u001B[0m         \u001B[1;33m(\u001B[0m\u001B[1;34m\"a\"\u001B[0m\u001B[1;33m,\u001B[0m\u001B[0mc_int\u001B[0m\u001B[1;33m)\u001B[0m\u001B[1;33m,\u001B[0m\u001B[1;33m\u001B[0m\u001B[1;33m\u001B[0m\u001B[0m\n\u001B[0;32m      7\u001B[0m         \u001B[1;33m(\u001B[0m\u001B[1;34m\"b\"\u001B[0m\u001B[1;33m,\u001B[0m\u001B[0mc_float\u001B[0m\u001B[1;33m)\u001B[0m\u001B[1;33m,\u001B[0m\u001B[1;33m\u001B[0m\u001B[1;33m\u001B[0m\u001B[0m\n\u001B[1;32m----> 8\u001B[1;33m         \u001B[1;33m(\u001B[0m\u001B[1;34m\"point_array\"\u001B[0m\u001B[1;33m,\u001B[0m\u001B[0mPointStruct\u001B[0m\u001B[1;33m*\u001B[0m\u001B[1;36m4\u001B[0m\u001B[1;33m)\u001B[0m\u001B[1;33m\u001B[0m\u001B[1;33m\u001B[0m\u001B[0m\n\u001B[0m\u001B[0;32m      9\u001B[0m     ]\n\u001B[0;32m     10\u001B[0m \u001B[0mprint\u001B[0m\u001B[1;33m(\u001B[0m\u001B[0mlen\u001B[0m\u001B[1;33m(\u001B[0m\u001B[0mMyStruct\u001B[0m\u001B[1;33m(\u001B[0m\u001B[1;33m)\u001B[0m\u001B[1;33m.\u001B[0m\u001B[0mpoint_array\u001B[0m\u001B[1;33m)\u001B[0m\u001B[1;33m)\u001B[0m\u001B[1;33m\u001B[0m\u001B[1;33m\u001B[0m\u001B[0m\n",
      "\u001B[1;31mNameError\u001B[0m: name 'PointStruct' is not defined"
     ]
    }
   ],
   "source": [
    "class ArrayItem(Structure):\n",
    "    _fields_ = (\"x\",c_int),(\"y\",c_int)\n",
    "\n",
    "class MyStruct(Structure):\n",
    "    _fields_=[\n",
    "        (\"a\",c_int),\n",
    "        (\"b\",c_float),\n",
    "        (\"point_array\",PointStruct*4)\n",
    "    ]\n",
    "print(len(MyStruct().point_array))"
   ],
   "metadata": {
    "collapsed": false,
    "pycharm": {
     "name": "#%%\n"
    }
   }
  },
  {
   "cell_type": "markdown",
   "source": [
    "#### 强类型转换\n",
    "- ctypes 具有严格的类型检查。这代表着,如果在函数argtypes中或者结构体定义成员中有 POINTER(c_int)类型，只有相同类型的实例才会被接受。\n",
    "- 例外：可以传递兼容的数组实例给指针类型。所以，对于 POINTER(c_int) ，ctypes 也可以接受 c_int 类型的数组\n",
    "- cast()cast() 函数可以将一个指针实例强制转换为另一种 ctypes 类型。 cast()接收两个参数，\n",
    "一个 ctypes 指针对象或者可以被转换为指针的其他类型对象，和一个 ctypes 指针类型。返回第二个类型的一个实例，\n",
    "该返回实例和第一个参数指向同一片内存空间。 cast((c_byte * 4)(), POINTER(c_int))：第一个数数组类型，数组元素\n",
    "为c_byte类型，第二个为c_int的指针类型，将第一个指向的内存的类型转换为c_int类型"
   ],
   "metadata": {
    "collapsed": false,
    "pycharm": {
     "name": "#%% md\n"
    }
   }
  },
  {
   "cell_type": "code",
   "execution_count": 9,
   "outputs": [
    {
     "name": "stdout",
     "output_type": "stream",
     "text": [
      "1\n",
      "2\n",
      "3\n",
      "0\n"
     ]
    }
   ],
   "source": [
    "class Bar(Structure):\n",
    "    _fields_=[\n",
    "        (\"count\",c_int),\n",
    "        (\"values\",POINTER(c_int))\n",
    "    ]\n",
    "bar =Bar()\n",
    "bar.values =(c_int*3)(1,2,3) # values 原本指向一个int类型的指针，现在变成改为一个数组\n",
    "bar.count=3\n",
    "for i in range(bar.count):\n",
    "    print(bar.values[i])\n",
    "\n",
    "##################### cast() ###########################\n",
    "a=(c_byte*4)() # 数组默认为0,非比特类型.所以这里肯定会报错\n",
    "\n",
    "bar=Bar()\n",
    "# cast()将c_byte转换为c_int类型，这里注意必须为指针类型\n",
    "bar.values =cast((c_byte*4)(),POINTER(c_int))#\n",
    "print(bar.values[0])"
   ],
   "metadata": {
    "collapsed": false,
    "pycharm": {
     "name": "#%%\n"
    }
   }
  },
  {
   "cell_type": "markdown",
   "source": [
    "#### 不完整类型\n",
    "- 不完整类型,即还没有定义成员的结构体、联合或者数组。\n",
    "- 在C中，它们通常用于前置声明，然后在后面定义"
   ],
   "metadata": {
    "collapsed": false,
    "pycharm": {
     "name": "#%% md\n"
    }
   }
  },
  {
   "cell_type": "code",
   "execution_count": 21,
   "outputs": [
    {
     "name": "stdout",
     "output_type": "stream",
     "text": [
      "head/头部 <class 'bytes'>\n",
      "tail/尾部 <class 'bytes'>\n",
      "head/头部 <class 'bytes'>\n",
      "tail/尾部 <class 'bytes'>\n",
      "head/头部 <class 'bytes'>\n",
      "tail/尾部 <class 'bytes'>\n",
      "head/头部 <class 'bytes'>\n",
      "tail/尾部 <class 'bytes'>\n"
     ]
    }
   ],
   "source": [
    "# C语言版\n",
    "# struct cell\n",
    "# struct cell{\n",
    "#     char *name;\n",
    "#     struct cell *next;\n",
    "# }\n",
    "# ctypes版本\n",
    "## 错误版本\n",
    "# class cell(Structure):\n",
    "#     _fields_=[\n",
    "#         (\"name\",c_char_p),\n",
    "#         (\"next\",POINTER(cell))  # 这里错误，CELL未定义\n",
    "#     ]\n",
    "\n",
    "## 正确版本\n",
    "class cell(Structure):\n",
    "    pass\n",
    "cell._fields_=[\n",
    "    (\"name\",c_char_p),\n",
    "    (\"next\",POINTER(cell))\n",
    "] # 链式节点\n",
    "\n",
    "c1=cell()\n",
    "c2=cell()\n",
    "## c语言没有字符串的概念，必须转位字节\n",
    "c1.name=bytes(\"head/头部\",'utf-8')\n",
    "c2.name=bytes(\"tail/尾部\",'utf-8')\n",
    "c1.next=pointer(c2)\n",
    "c2.next=pointer(c1)\n",
    "p=c1\n",
    "for i in  range(8):\n",
    "    print(p.name.decode())\n",
    "    p =p.next[0]\n"
   ],
   "metadata": {
    "collapsed": false,
    "pycharm": {
     "name": "#%%\n"
    }
   }
  },
  {
   "cell_type": "markdown",
   "source": [
    "#### 回调函数\n",
    "- ctypes允许创建一个指向Python 可调用对象的 C 函数\n",
    "- 必须为回调函数创建一个类.这个类知道调用约定.包括返回值类型以及函数接收的参数类型及个数\n",
    "- CFUNCTYPE() 工厂函数使用 cdecl 调用约定创建回调函数类型。\n",
    "在 Windows 上，WINFUNCTYPE() 工厂函数使用 stdcall 调用约定为回调函数创建类型\n",
    "- cdecl:\n",
    "- stdcall:\n",
    "- 所有的工厂函数用返回值类型作为第一个参数，回掉函数的参数类型作为剩余参数。"
   ],
   "metadata": {
    "collapsed": false,
    "pycharm": {
     "name": "#%% md\n"
    }
   }
  },
  {
   "cell_type": "code",
   "execution_count": 22,
   "outputs": [
    {
     "ename": "NameError",
     "evalue": "name 'libc' is not defined",
     "output_type": "error",
     "traceback": [
      "\u001B[1;31m---------------------------------------------------------------------------\u001B[0m",
      "\u001B[1;31mNameError\u001B[0m                                 Traceback (most recent call last)",
      "\u001B[1;32m<ipython-input-22-663ce84579a5>\u001B[0m in \u001B[0;36m<module>\u001B[1;34m\u001B[0m\n\u001B[0;32m      1\u001B[0m \u001B[0mIntArray\u001B[0m \u001B[1;33m=\u001B[0m \u001B[0mc_int\u001B[0m\u001B[1;33m*\u001B[0m\u001B[1;36m5\u001B[0m\u001B[1;33m\u001B[0m\u001B[1;33m\u001B[0m\u001B[0m\n\u001B[0;32m      2\u001B[0m \u001B[0mia\u001B[0m \u001B[1;33m=\u001B[0m \u001B[0mIntArray\u001B[0m\u001B[1;33m(\u001B[0m\u001B[1;36m5\u001B[0m\u001B[1;33m,\u001B[0m\u001B[1;36m1\u001B[0m\u001B[1;33m,\u001B[0m\u001B[1;36m7\u001B[0m\u001B[1;33m,\u001B[0m\u001B[1;36m33\u001B[0m\u001B[1;33m,\u001B[0m\u001B[1;36m99\u001B[0m\u001B[1;33m)\u001B[0m\u001B[1;33m\u001B[0m\u001B[1;33m\u001B[0m\u001B[0m\n\u001B[1;32m----> 3\u001B[1;33m \u001B[0mqsort\u001B[0m \u001B[1;33m=\u001B[0m \u001B[0mlibc\u001B[0m\u001B[1;33m.\u001B[0m\u001B[0mqsort\u001B[0m \u001B[1;31m#  qsort() 将用来给整数数组排序\u001B[0m\u001B[1;33m\u001B[0m\u001B[1;33m\u001B[0m\u001B[0m\n\u001B[0m\u001B[0;32m      4\u001B[0m \u001B[1;31m# qsort() 必须接收的参数，一个指向待排序数据的指针，元素个数，每个元素的大小，\u001B[0m\u001B[1;33m\u001B[0m\u001B[1;33m\u001B[0m\u001B[1;33m\u001B[0m\u001B[0m\n\u001B[0;32m      5\u001B[0m \u001B[1;31m# 以及一个指向排序函数的指针，即回调函数。\u001B[0m\u001B[1;33m\u001B[0m\u001B[1;33m\u001B[0m\u001B[1;33m\u001B[0m\u001B[0m\n",
      "\u001B[1;31mNameError\u001B[0m: name 'libc' is not defined"
     ]
    }
   ],
   "source": [
    "IntArray = c_int*5\n",
    "ia = IntArray(5,1,7,33,99)\n",
    "qsort = libc.qsort #  qsort() 将用来给整数数组排序\n",
    "# qsort() 必须接收的参数，一个指向待排序数据的指针，元素个数，每个元素的大小，\n",
    "# 以及一个指向排序函数的指针，即回调函数。\n",
    "# 回调：回调函数接收两个元素的指针，如果第一个元素小于第二个，则返回一个负整数，如果相等则返回0，否则返回一个正整数\n",
    "\n",
    "# 根据py_cmp_func来定,第一个为返回值类型，后面为参数类型,指向C_INT的指针\n",
    "CMPFUNC=CFUNCTYPE(c_int,POINTER(c_int),POINTER(c_int)) #\n",
    "def py_cmp_func(a,b):\n",
    "    print(\"py_cmp_func\",a[0],b[0])\n",
    "    return a[0]-b[0]\n",
    "\n",
    "cmp_func=CMPFUNC(py_cmp_func)\n",
    "\n",
    "qsort(ia,len(ia),sizeof(c_int),cmp_func)\n",
    "\n",
    "## 另外一种写法\n",
    "@CFUNCTYPE(c_int,POINTER(c_int),POINTER(c_int))\n",
    "def py_cmp_func(a,b):\n",
    "    print(\"py_cmp_func\",a[0],b[0])\n",
    "    return a[0]-b[0]\n",
    "\n",
    "qsort(ia,len(ia),sizeof(c_int),cmp_func)"
   ],
   "metadata": {
    "collapsed": false,
    "pycharm": {
     "name": "#%%\n"
    }
   }
  },
  {
   "cell_type": "markdown",
   "source": [
    "#### 同一空间赋值注意事项"
   ],
   "metadata": {
    "collapsed": false,
    "pycharm": {
     "name": "#%% md\n"
    }
   }
  },
  {
   "cell_type": "code",
   "execution_count": 24,
   "outputs": [
    {
     "name": "stdout",
     "output_type": "stream",
     "text": [
      "1 2 3 4\n",
      "3 4 3 4\n"
     ]
    }
   ],
   "source": [
    "class POINT(Structure):\n",
    "    _fields_=(\"x\", c_int), (\"y\", c_int)\n",
    "\n",
    "class RECT(Structure):\n",
    "    _fields_ = (\"a\", POINT), (\"b\", POINT)\n",
    "\n",
    "p1=POINT(1,2)\n",
    "p2=POINT(3,4)\n",
    "rc=RECT(p1,p2)\n",
    "print(rc.a.x,rc.a.y,rc.b.x,rc.b.y)\n",
    "\n",
    "rc.a,rc.b = rc.b,rc.a\n",
    "print(rc.a.x,rc.a.y,rc.b.x,rc.b.y)\n",
    "# 这里打印出来并不是 34 12 而是 3434\n",
    "# 赋值过程如下：\n",
    "# temp0,temp1=rc.b,rc.a\n",
    "# rc.a=temp0\n",
    "# rc.b=temp1\n",
    "# 注意 temp0 和 temp1 对象始终引用了对象 rc 的内容。\n",
    "# 然后执行 rc.a = temp0 会把 temp0 的内容拷贝到 rc 的空间。这也改变了 temp1 的内容\n",
    "\n",
    "# 例子2：\n",
    "s = c_char_p() #实例化的对象只能将其值设置为 bytes 或者整数。\n",
    "s.value=b\"test\"\n",
    "print(s.value is s.value)\n",
    "# False"
   ],
   "metadata": {
    "collapsed": false,
    "pycharm": {
     "name": "#%%\n"
    }
   }
  },
  {
   "cell_type": "markdown",
   "source": [
    "#### 寻找动态链接库\n",
    "- ctypes.util.find_library(name)\n",
    "- ctypes.CDLL(name, mode=DEFAULT_MODE, handle=None, use_errno=False, use_last_error=False)：此类的实例即已加载的动态链接库.库中的函数使用标准 C 调用约定，并假定返回 int 。\n",
    "- ctypes.OleDLL(name, mode=DEFAULT_MODE, handle=None, use_errno=False, use_last_error=False):仅 Windows,此类的实例即加载好的动态链接库，其中的函数使用 stdcall 调用约定，\n",
    "并且假定返回 windows 指定的 HRESULT 返回码。\n",
    "- ctypes.WinDLL(name, mode=DEFAULT_MODE, handle=None, use_errno=False, use_last_error=False):仅 Windows,此类的实例即加载好的动态链接库，其中的函数使用 stdcall 调用约定，并假定默认返回 int\n",
    "##### 参数\n",
    "- name:通过使用至少一个参数（共享库的路径名）调用它们，可以实例化所有这些类。也可以传入一个已加载的动态链接库作为 handler 参数，\n",
    "其他情况会调用系统底层的 dlopen 或 LoadLibrary 函数将库加载到进程，并获取其句柄\n",
    "- mode 可以指定库加载方式。在Windows上，会忽略mode,在posix系统上，总是会加上 RTLD_NOW ，且无法配置\n",
    "- use_errno 参数如果设置为 true，可以启用ctypes的机制，通过一种安全的方法获取系统的 errno 错误码。\n",
    "ctypes 维护了一个线程局部变量，它是系统 errno 的一份拷贝；如果调用了使用 use_errno=True 创建的外部函数，\n",
    "errno 的值会与 ctypes 自己拷贝的那一份进行交换，函数执行完后立即再交换一次\n",
    "- use_last_error 参数如果设置为 true，可以在 Windows 上启用相同的策略，它是通过 Windows API 函数 GetLastError()  和 SetLastError() 管理的。\n",
    "ctypes.get_last_error() 和 ctypes.set_last_error() 可用于获取和设置 ctypes 自己维护的 windows 错误码拷贝\n",
    "\n",
    "##### mode\n",
    "- ctypes.RTLD_GLOBAL:用于 mode 参数的标识值。在此标识不可用的系统上，它被定义为整数0\n",
    "- ctypes.RTLD_LOCAL:\n",
    "- ctypes.DEFAULT_MODE:"
   ],
   "metadata": {
    "collapsed": false,
    "pycharm": {
     "name": "#%% md\n"
    }
   }
  }
 ],
 "metadata": {
  "kernelspec": {
   "display_name": "Python 3",
   "language": "python",
   "name": "python3"
  },
  "language_info": {
   "codemirror_mode": {
    "name": "ipython",
    "version": 2
   },
   "file_extension": ".py",
   "mimetype": "text/x-python",
   "name": "python",
   "nbconvert_exporter": "python",
   "pygments_lexer": "ipython2",
   "version": "2.7.6"
  }
 },
 "nbformat": 4,
 "nbformat_minor": 0
}